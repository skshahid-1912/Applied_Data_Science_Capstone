{
    "cells": [
        {
            "metadata": {
                "collapsed": true
            },
            "cell_type": "markdown",
            "source": "# Applied Data Science Capstone\n\n## Week 3 Segmenting and Clustering Neighborhoods in Toronto\n\n### Part 1\n\n  - Build the code to scrape the following Wikipedia page, https://en.wikipedia.org/wiki/List_of_postal_codes_of_Canada:_M, in order to obtain the data that is in the table of postal codes and to transform the data into a pandas dataframe."
        },
        {
            "metadata": {},
            "cell_type": "markdown",
            "source": "### Importing Libraries"
        },
        {
            "metadata": {},
            "cell_type": "code",
            "source": "import numpy as np # library to handle data in a vectorized manner\nimport pandas as pd # library for data analsysis\nimport requests # library to handle requests\nfrom bs4 import BeautifulSoup # library to parse HTML and XML documents\n\nprint(\"Libraries imported.\")",
            "execution_count": 1,
            "outputs": [
                {
                    "output_type": "stream",
                    "text": "Libraries imported.\n",
                    "name": "stdout"
                }
            ]
        },
        {
            "metadata": {},
            "cell_type": "markdown",
            "source": "### Scraping Data from the Wikipedia Page"
        },
        {
            "metadata": {},
            "cell_type": "code",
            "source": "# send the GET request\ndata = requests.get('https://en.wikipedia.org/wiki/List_of_postal_codes_of_Canada:_M').text",
            "execution_count": 14,
            "outputs": []
        },
        {
            "metadata": {},
            "cell_type": "code",
            "source": "# parse data from the html into a beautifulsoup object\nsoup = BeautifulSoup(data, 'html.parser')",
            "execution_count": 15,
            "outputs": []
        },
        {
            "metadata": {},
            "cell_type": "code",
            "source": "# create three lists to store table data\npostalCodeList = []\nboroughList = []\nneighborhoodList = []",
            "execution_count": 16,
            "outputs": []
        },
        {
            "metadata": {},
            "cell_type": "code",
            "source": "# find the table\nsoup.find('table').find_all('tr')\n\n# find all the rows of the table\nsoup.find('table').find_all('tr')\n\n# for each row of the table, find all the table data\nfor row in soup.find('table').find_all('tr'):\n    cells = row.find_all('td')\n# append the data into the respective lists\nfor row in soup.find('table').find_all('tr'):\n    cells = row.find_all('td')\n    if(len(cells) > 0):\n        postalCodeList.append(cells[0].text.rstrip('\\n'))\n        boroughList.append(cells[1].text.rstrip('\\n'))\n        neighborhoodList.append(cells[2].text.rstrip('\\n')) # avoid new lines in neighborhood cell",
            "execution_count": 17,
            "outputs": []
        },
        {
            "metadata": {},
            "cell_type": "markdown",
            "source": "### Creating Dataframe from the three lists according to the requirements in the assignment."
        },
        {
            "metadata": {},
            "cell_type": "code",
            "source": "toronto_df = pd.DataFrame({\"PostalCode\": postalCodeList,\n                           \"Borough\": boroughList,\n                           \"Neighborhood\": neighborhoodList})\n\ntoronto_df.head()",
            "execution_count": 21,
            "outputs": [
                {
                    "output_type": "execute_result",
                    "execution_count": 21,
                    "data": {
                        "text/plain": "  PostalCode           Borough               Neighborhood\n0        M1A      Not assigned                           \n1        M2A      Not assigned                           \n2        M3A        North York                  Parkwoods\n3        M4A        North York           Victoria Village\n4        M5A  Downtown Toronto  Regent Park, Harbourfront",
                        "text/html": "<div>\n<style scoped>\n    .dataframe tbody tr th:only-of-type {\n        vertical-align: middle;\n    }\n\n    .dataframe tbody tr th {\n        vertical-align: top;\n    }\n\n    .dataframe thead th {\n        text-align: right;\n    }\n</style>\n<table border=\"1\" class=\"dataframe\">\n  <thead>\n    <tr style=\"text-align: right;\">\n      <th></th>\n      <th>PostalCode</th>\n      <th>Borough</th>\n      <th>Neighborhood</th>\n    </tr>\n  </thead>\n  <tbody>\n    <tr>\n      <th>0</th>\n      <td>M1A</td>\n      <td>Not assigned</td>\n      <td></td>\n    </tr>\n    <tr>\n      <th>1</th>\n      <td>M2A</td>\n      <td>Not assigned</td>\n      <td></td>\n    </tr>\n    <tr>\n      <th>2</th>\n      <td>M3A</td>\n      <td>North York</td>\n      <td>Parkwoods</td>\n    </tr>\n    <tr>\n      <th>3</th>\n      <td>M4A</td>\n      <td>North York</td>\n      <td>Victoria Village</td>\n    </tr>\n    <tr>\n      <th>4</th>\n      <td>M5A</td>\n      <td>Downtown Toronto</td>\n      <td>Regent Park, Harbourfront</td>\n    </tr>\n  </tbody>\n</table>\n</div>"
                    },
                    "metadata": {}
                }
            ]
        },
        {
            "metadata": {},
            "cell_type": "markdown",
            "source": "### Drop cells with a Borough that is \"Not assigned\""
        },
        {
            "metadata": {},
            "cell_type": "code",
            "source": "# drop cells with a borough that is Not assigned\ntoronto_df_dropna = toronto_df[toronto_df.Borough != \"Not assigned\"].reset_index(drop=True)\ntoronto_df_dropna.head()",
            "execution_count": 22,
            "outputs": [
                {
                    "output_type": "execute_result",
                    "execution_count": 22,
                    "data": {
                        "text/plain": "  PostalCode           Borough                                 Neighborhood\n0        M3A        North York                                    Parkwoods\n1        M4A        North York                             Victoria Village\n2        M5A  Downtown Toronto                    Regent Park, Harbourfront\n3        M6A        North York             Lawrence Manor, Lawrence Heights\n4        M7A  Downtown Toronto  Queen's Park, Ontario Provincial Government",
                        "text/html": "<div>\n<style scoped>\n    .dataframe tbody tr th:only-of-type {\n        vertical-align: middle;\n    }\n\n    .dataframe tbody tr th {\n        vertical-align: top;\n    }\n\n    .dataframe thead th {\n        text-align: right;\n    }\n</style>\n<table border=\"1\" class=\"dataframe\">\n  <thead>\n    <tr style=\"text-align: right;\">\n      <th></th>\n      <th>PostalCode</th>\n      <th>Borough</th>\n      <th>Neighborhood</th>\n    </tr>\n  </thead>\n  <tbody>\n    <tr>\n      <th>0</th>\n      <td>M3A</td>\n      <td>North York</td>\n      <td>Parkwoods</td>\n    </tr>\n    <tr>\n      <th>1</th>\n      <td>M4A</td>\n      <td>North York</td>\n      <td>Victoria Village</td>\n    </tr>\n    <tr>\n      <th>2</th>\n      <td>M5A</td>\n      <td>Downtown Toronto</td>\n      <td>Regent Park, Harbourfront</td>\n    </tr>\n    <tr>\n      <th>3</th>\n      <td>M6A</td>\n      <td>North York</td>\n      <td>Lawrence Manor, Lawrence Heights</td>\n    </tr>\n    <tr>\n      <th>4</th>\n      <td>M7A</td>\n      <td>Downtown Toronto</td>\n      <td>Queen's Park, Ontario Provincial Government</td>\n    </tr>\n  </tbody>\n</table>\n</div>"
                    },
                    "metadata": {}
                }
            ]
        },
        {
            "metadata": {},
            "cell_type": "markdown",
            "source": "### Group neighborhoods in the same Borough"
        },
        {
            "metadata": {},
            "cell_type": "code",
            "source": "# group neighborhoods in the same borough\ntoronto_df_grouped = toronto_df_dropna.groupby([\"PostalCode\", \"Borough\"], as_index=False).agg(lambda x: \", \".join(x))\ntoronto_df_grouped.head()",
            "execution_count": 23,
            "outputs": [
                {
                    "output_type": "execute_result",
                    "execution_count": 23,
                    "data": {
                        "text/plain": "  PostalCode      Borough                            Neighborhood\n0        M1B  Scarborough                          Malvern, Rouge\n1        M1C  Scarborough  Rouge Hill, Port Union, Highland Creek\n2        M1E  Scarborough       Guildwood, Morningside, West Hill\n3        M1G  Scarborough                                  Woburn\n4        M1H  Scarborough                               Cedarbrae",
                        "text/html": "<div>\n<style scoped>\n    .dataframe tbody tr th:only-of-type {\n        vertical-align: middle;\n    }\n\n    .dataframe tbody tr th {\n        vertical-align: top;\n    }\n\n    .dataframe thead th {\n        text-align: right;\n    }\n</style>\n<table border=\"1\" class=\"dataframe\">\n  <thead>\n    <tr style=\"text-align: right;\">\n      <th></th>\n      <th>PostalCode</th>\n      <th>Borough</th>\n      <th>Neighborhood</th>\n    </tr>\n  </thead>\n  <tbody>\n    <tr>\n      <th>0</th>\n      <td>M1B</td>\n      <td>Scarborough</td>\n      <td>Malvern, Rouge</td>\n    </tr>\n    <tr>\n      <th>1</th>\n      <td>M1C</td>\n      <td>Scarborough</td>\n      <td>Rouge Hill, Port Union, Highland Creek</td>\n    </tr>\n    <tr>\n      <th>2</th>\n      <td>M1E</td>\n      <td>Scarborough</td>\n      <td>Guildwood, Morningside, West Hill</td>\n    </tr>\n    <tr>\n      <th>3</th>\n      <td>M1G</td>\n      <td>Scarborough</td>\n      <td>Woburn</td>\n    </tr>\n    <tr>\n      <th>4</th>\n      <td>M1H</td>\n      <td>Scarborough</td>\n      <td>Cedarbrae</td>\n    </tr>\n  </tbody>\n</table>\n</div>"
                    },
                    "metadata": {}
                }
            ]
        },
        {
            "metadata": {},
            "cell_type": "markdown",
            "source": "### For Neighborhood=\"Not assigned\", make the value the same as Borough"
        },
        {
            "metadata": {},
            "cell_type": "code",
            "source": "for index, row in toronto_df_grouped.iterrows():\n    if row[\"Neighborhood\"] == \"Not assigned\":\n        row[\"Neighborhood\"] = row[\"Borough\"]\n        \ntoronto_df_grouped.head()",
            "execution_count": 24,
            "outputs": [
                {
                    "output_type": "execute_result",
                    "execution_count": 24,
                    "data": {
                        "text/plain": "  PostalCode      Borough                            Neighborhood\n0        M1B  Scarborough                          Malvern, Rouge\n1        M1C  Scarborough  Rouge Hill, Port Union, Highland Creek\n2        M1E  Scarborough       Guildwood, Morningside, West Hill\n3        M1G  Scarborough                                  Woburn\n4        M1H  Scarborough                               Cedarbrae",
                        "text/html": "<div>\n<style scoped>\n    .dataframe tbody tr th:only-of-type {\n        vertical-align: middle;\n    }\n\n    .dataframe tbody tr th {\n        vertical-align: top;\n    }\n\n    .dataframe thead th {\n        text-align: right;\n    }\n</style>\n<table border=\"1\" class=\"dataframe\">\n  <thead>\n    <tr style=\"text-align: right;\">\n      <th></th>\n      <th>PostalCode</th>\n      <th>Borough</th>\n      <th>Neighborhood</th>\n    </tr>\n  </thead>\n  <tbody>\n    <tr>\n      <th>0</th>\n      <td>M1B</td>\n      <td>Scarborough</td>\n      <td>Malvern, Rouge</td>\n    </tr>\n    <tr>\n      <th>1</th>\n      <td>M1C</td>\n      <td>Scarborough</td>\n      <td>Rouge Hill, Port Union, Highland Creek</td>\n    </tr>\n    <tr>\n      <th>2</th>\n      <td>M1E</td>\n      <td>Scarborough</td>\n      <td>Guildwood, Morningside, West Hill</td>\n    </tr>\n    <tr>\n      <th>3</th>\n      <td>M1G</td>\n      <td>Scarborough</td>\n      <td>Woburn</td>\n    </tr>\n    <tr>\n      <th>4</th>\n      <td>M1H</td>\n      <td>Scarborough</td>\n      <td>Cedarbrae</td>\n    </tr>\n  </tbody>\n</table>\n</div>"
                    },
                    "metadata": {}
                }
            ]
        },
        {
            "metadata": {},
            "cell_type": "markdown",
            "source": "### Clean your Notebook and add Markdown cells to explain your work and any assumptions you are making.\n\n+ Import and scrap wikipage using BeautifulSoup package.\n+ The dataframe will consist of three columns: PostalCode, Borough, and Neighborhood.\n+ Only process the cells that have an assigned borough. Ignore cells with a borough that is Not assigned.\n+ If a cell has a borough but a Not assigned neighborhood, then the neighborhood will be the same as the borough.\n"
        },
        {
            "metadata": {},
            "cell_type": "markdown",
            "source": "### In the last cell of your notebook, use the .shape method to print the number of rows of your dataframe."
        },
        {
            "metadata": {},
            "cell_type": "code",
            "source": "toronto_df_grouped.shape",
            "execution_count": 25,
            "outputs": [
                {
                    "output_type": "execute_result",
                    "execution_count": 25,
                    "data": {
                        "text/plain": "(103, 3)"
                    },
                    "metadata": {}
                }
            ]
        }
    ],
    "metadata": {
        "kernelspec": {
            "name": "python3",
            "display_name": "Python 3.6",
            "language": "python"
        },
        "language_info": {
            "name": "python",
            "version": "3.6.9",
            "mimetype": "text/x-python",
            "codemirror_mode": {
                "name": "ipython",
                "version": 3
            },
            "pygments_lexer": "ipython3",
            "nbconvert_exporter": "python",
            "file_extension": ".py"
        }
    },
    "nbformat": 4,
    "nbformat_minor": 1
}